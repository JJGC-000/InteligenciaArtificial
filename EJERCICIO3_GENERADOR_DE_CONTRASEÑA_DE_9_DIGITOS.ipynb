{
  "nbformat": 4,
  "nbformat_minor": 0,
  "metadata": {
    "colab": {
      "provenance": []
    },
    "kernelspec": {
      "name": "python3",
      "display_name": "Python 3"
    },
    "language_info": {
      "name": "python"
    }
  },
  "cells": [
    {
      "cell_type": "code",
      "execution_count": 39,
      "metadata": {
        "colab": {
          "base_uri": "https://localhost:8080/"
        },
        "id": "aZKwgIVpXHJE",
        "outputId": "896d54cb-b488-4e96-e927-6d79eed5d1e0"
      },
      "outputs": [
        {
          "output_type": "stream",
          "name": "stdout",
          "text": [
            "La contraseña generada es: 926994214\n"
          ]
        }
      ],
      "source": [
        "import random\n",
        "\n",
        "def distancia_teclas(a, b):\n",
        "    teclado = [[1, 2, 3], [4, 5, 6], [7, 8, 9], [None, 0, None]]\n",
        "    try:\n",
        "        xa, ya = divmod(teclado.index([c for c in teclado if a in c][0]), 1)\n",
        "    except IndexError:\n",
        "        xa, ya = None, None\n",
        "    try:\n",
        "        xb, yb = divmod(teclado.index([c for c in teclado if b in c][0]), 1)\n",
        "    except IndexError:\n",
        "        xb, yb = None, None\n",
        "    if xa is None or xb is None:\n",
        "        return float('inf')\n",
        "    return ((xa - xb) ** 2 + (ya - yb) ** 2) ** 0.5\n",
        "\n",
        "def aptitud(cadena):\n",
        "    return sum(distancia_teclas(cadena[i], cadena[i+1]) for i in range(len(cadena)-1))\n",
        "\n",
        "def generar_poblacion(tamano):\n",
        "    poblacion = []\n",
        "    for i in range(tamano):\n",
        "        individuo = ''.join(str(random.randint(1, 9)) for j in range(9))\n",
        "        poblacion.append(individuo)\n",
        "    return poblacion\n",
        "\n",
        "def seleccion(poblacion):\n",
        "    return sorted(poblacion, key=aptitud, reverse=True)[:int(len(poblacion)*0.2)]\n",
        "\n",
        "def cruzamiento(padre, madre):\n",
        "    punto = random.randint(1, len(padre)-2)\n",
        "    hijo1 = padre[:punto] + madre[punto:]\n",
        "    hijo2 = madre[:punto] + padre[punto:]\n",
        "    return hijo1, hijo2\n",
        "\n",
        "def mutacion(individuo):\n",
        "    punto = random.randint(0, len(individuo)-1)\n",
        "    return individuo[:punto] + str(random.randint(0, 9)) + individuo[punto+1:]\n",
        "\n",
        "def algoritmo_genetico(tamano_poblacion, num_generaciones):\n",
        "    poblacion = generar_poblacion(tamano_poblacion)\n",
        "    for i in range(num_generaciones):\n",
        "        seleccionados = seleccion(poblacion)\n",
        "        descendencia = []\n",
        "        while len(descendencia) < tamano_poblacion - len(seleccionados):\n",
        "            padre = random.choice(seleccionados)\n",
        "            madre = random.choice(seleccionados)\n",
        "            hijo1, hijo2 = cruzamiento(padre, madre)\n",
        "            descendencia.append(hijo1)\n",
        "            descendencia.append(hijo2)\n",
        "        mutados = [mutacion(individuo) for individuo in descendencia]\n",
        "        poblacion = seleccionados + mutados\n",
        "    return max(poblacion, key=aptitud)\n",
        "\n",
        "password = algoritmo_genetico(100, 100)\n",
        "print(f\"La contraseña generada es: {password}\")"
      ]
    },
    {
      "cell_type": "code",
      "source": [
        "import random\n",
        "\n",
        "def distancia_teclas(a, b):\n",
        "    teclado = [[1, 2, 3], [4, 5, 6], [7, 8, 9], [None, 0, None]]\n",
        "    try:\n",
        "        xa, ya = divmod(teclado.index([c for c in teclado if a in c][0]), 1)\n",
        "    except IndexError:\n",
        "        xa, ya = None, None\n",
        "    try:\n",
        "        xb, yb = divmod(teclado.index([c for c in teclado if b in c][0]), 1)\n",
        "    except IndexError:\n",
        "        xb, yb = None, None\n",
        "    if xa is None or xb is None:\n",
        "        return float('inf')\n",
        "    # Verificar si los dígitos son adyacentes\n",
        "    adyacentes = {\n",
        "        1: [2, 4, 5],\n",
        "        2: [1, 3, 4, 5, 6],\n",
        "        3: [2, 5, 6],\n",
        "        4: [1, 2, 5, 7, 8],\n",
        "        5: [1, 2, 3, 4, 6, 7, 8, 9],\n",
        "        6: [2, 3, 5, 8, 9],\n",
        "        7: [4, 5, 8],\n",
        "        8: [4, 5, 6, 7, 9],\n",
        "        9: [5, 6, 8]\n",
        "    }\n",
        "    if int(b) in adyacentes[int(a)] or int(a) in adyacentes[int(b)]:\n",
        "        return ((xa - xb) ** 2 + (ya - yb) ** 2) ** 0.5\n",
        "    else:\n",
        "        return float('inf')\n",
        "\n",
        "def aptitud(cadena):\n",
        "    return sum(distancia_teclas(cadena[i], cadena[i+1]) for i in range(len(cadena)-1))\n",
        "\n",
        "def generar_poblacion(tamano):\n",
        "    poblacion = []\n",
        "    for i in range(tamano):\n",
        "        individuo = ''.join(str(random.randint(1, 9)) for j in range(9))\n",
        "        poblacion.append(individuo)\n",
        "    return poblacion\n",
        "\n",
        "def seleccion(poblacion):\n",
        "    return sorted(poblacion, key=aptitud, reverse=True)[:int(len(poblacion)*0.2)]\n",
        "\n",
        "def cruzamiento(padre, madre):\n",
        "    punto = random.randint(1, len(padre)-2)\n",
        "    hijo1 = padre[:punto] + madre[punto:]\n",
        "    hijo2 = madre[:punto] + padre[punto:]\n",
        "    return hijo1, hijo2\n",
        "\n",
        "def mutacion(individuo):\n",
        "    punto = random.randint(0, len(individuo)-1)\n",
        "    nuevo_digito = str(random.randint(1, 9))\n",
        "    while punto < len(individuo)-1 and individuo[punto+1] == nuevo_digito:\n",
        "        nuevo_digito = str(random.randint(1, 9))\n",
        "    while punto > 0 and individuo[punto-1] == nuevo_digito:\n",
        "        nuevo_digito = str(random.randint(1, 9))\n",
        "    return individuo[:punto] + nuevo_digito + individuo[punto+1:]\n",
        "\n",
        "def algoritmo_genetico(tamano_poblacion, num_generaciones):\n",
        "    poblacion = generar_poblacion(tamano_poblacion)\n",
        "    for i in range(num_generaciones):\n",
        "        seleccionados = seleccion(poblacion)\n",
        "        descendencia = []\n",
        "        while len(descendencia) < tamano_poblacion - len(seleccionados):\n",
        "            padre = random.choice(seleccionados)\n",
        "            madre = random.choice(seleccionados)\n",
        "            hijo1, hijo2 = cruzamiento(padre, madre)\n",
        "            descendencia.append(hijo1)\n",
        "            descendencia.append(hijo2)\n",
        "        mutados = [mutacion(individuo) for individuo in descendencia]\n",
        "        poblacion = seleccionados + mutados\n",
        "    return max(poblacion, key=aptitud)\n",
        "\n",
        "password = algoritmo_genetico(100, 100)\n",
        "print(f\"La contraseña generada es: {password}\")"
      ],
      "metadata": {
        "colab": {
          "base_uri": "https://localhost:8080/"
        },
        "id": "SpyyjkPN4uS7",
        "outputId": "9678db38-d3bb-421f-c5aa-af63ff798dc5"
      },
      "execution_count": 37,
      "outputs": [
        {
          "output_type": "stream",
          "name": "stdout",
          "text": [
            "La contraseña generada es: 679193625\n"
          ]
        }
      ]
    }
  ]
}